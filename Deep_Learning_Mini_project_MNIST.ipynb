{
 "cells": [
  {
   "cell_type": "code",
   "execution_count": null,
   "metadata": {
    "id": "41buFBWTIL3L"
   },
   "outputs": [],
   "source": [
    "## import the necessary libraries\n",
    "import torch\n",
    "import torch.nn as nn\n",
    "import torch.nn.functional as F\n",
    "import torch.optim as optim\n",
    "from torch.optim.lr_scheduler import _LRScheduler\n",
    "import torch.utils.data as data\n",
    "import torchvision\n",
    "import torchvision.transforms as transforms\n",
    "import torchvision.datasets as datasets\n",
    "\n",
    "import argparse\n",
    "from sklearn import decomposition\n",
    "from sklearn import manifold\n",
    "from sklearn.metrics import confusion_matrix\n",
    "from sklearn.metrics import ConfusionMatrixDisplay\n",
    "import matplotlib.pyplot as plt\n",
    "import numpy as np\n",
    "\n",
    "import copy\n",
    "import random\n",
    "import time\n",
    "import pandas as pd"
   ]
  },
  {
   "cell_type": "code",
   "execution_count": null,
   "metadata": {
    "colab": {
     "base_uri": "https://localhost:8080/"
    },
    "id": "f32p2fv8PPvd",
    "outputId": "d7d3ae64-8c4c-464d-9f98-ff5d6762a8e5"
   },
   "outputs": [
    {
     "name": "stdout",
     "output_type": "stream",
     "text": [
      "Drive already mounted at /content/drive; to attempt to forcibly remount, call drive.mount(\"/content/drive\", force_remount=True).\n"
     ]
    }
   ],
   "source": [
    "from google.colab import drive\n",
    "drive.mount('/content/drive')"
   ]
  },
  {
   "cell_type": "markdown",
   "metadata": {
    "id": "P6QetX6oJhVD"
   },
   "source": [
    "# Load Datasets"
   ]
  },
  {
   "cell_type": "markdown",
   "metadata": {
    "id": "sWrGiEoQhxvL"
   },
   "source": [
    "In the following cell the mean and the std of the CIFAR10 and MNIST data are calculated in order to use these values as parameters when normalising the datasets. Note that the MNIST data set will have 1 value for the mean and one value for the std since the images only have one channel, while there will be 3 values of the mean and 3 values of the std for the CIFAR10 dataset, one per channel."
   ]
  },
  {
   "cell_type": "code",
   "execution_count": null,
   "metadata": {
    "colab": {
     "base_uri": "https://localhost:8080/"
    },
    "id": "i7njsmg0hwKl",
    "outputId": "c6ef68ce-8782-4952-d0ab-5a68450e0a36"
   },
   "outputs": [
    {
     "name": "stdout",
     "output_type": "stream",
     "text": [
      "Files already downloaded and verified\n",
      "Information for the CIFAR10 dataset:\n",
      "Shape: (50000, 32, 32, 3)\n",
      "Mean: [0.49139968 0.48215841 0.44653091]\n",
      "Standard deviation: [0.24703223 0.24348513 0.26158784]\n",
      "----------\n",
      "Information for the MNIST dateset:\n",
      "Shape: [60000, 28, 28]\n",
      "Mean: tensor(0.1307)\n",
      "Standard deviation tensor(0.3081)\n"
     ]
    }
   ],
   "source": [
    "dataset_names = ('cifar10','mnist')\n",
    "\n",
    "for name in dataset_names:\n",
    "  if name == \"cifar10\":\n",
    "    train_transform = transforms.Compose([transforms.ToTensor()])\n",
    "    train_set = datasets.CIFAR10(root='cifar_dataset', train=True, download=True, transform=train_transform)\n",
    "\n",
    "    print('Information for the CIFAR10 dataset:')\n",
    "    print('Shape:', train_set.data.shape)\n",
    "    print('Mean:', train_set.data.mean(axis=(0,1,2))/255)\n",
    "    print('Standard deviation:', train_set.data.std(axis=(0,1,2))/255)\n",
    "    print('-' *10)\n",
    "\n",
    "  elif name == \"mnist\":\n",
    "    train_transform = transforms.Compose([transforms.ToTensor()])\n",
    "    train_set = datasets.MNIST(root='mnist_dataset', train=True, download=True, transform=train_transform)\n",
    "\n",
    "    print('Information for the MNIST dateset:')\n",
    "    print('Shape:', list(train_set.data.size()))\n",
    "    print('Mean:',train_set.data.float().mean()/255)\n",
    "    print('Standard deviation',train_set.data.float().std()/255)"
   ]
  },
  {
   "cell_type": "code",
   "execution_count": null,
   "metadata": {
    "id": "mmGFUWgNJg2F"
   },
   "outputs": [],
   "source": [
    "BATCH_SIZE = 256\n",
    "\n",
    "## define the transforms for the training set\n",
    "train_transform = transforms.Compose([transforms.Resize((32,32)),\n",
    "                                      #transforms.RandomHorizontalFlip(),\n",
    "                                      transforms.ToTensor(),\n",
    "                                      transforms.Normalize((0.1307,), (0.3081,))]) ## Given the values of the mean and the standard deviation above\n",
    "\n",
    "## define the transforms for the test set\n",
    "test_transform = transforms.Compose([transforms.Resize((32,32)),\n",
    "                                     transforms.ToTensor(),\n",
    "                                     transforms.Normalize((0.1307,), (0.3081,))]) ## Given the values of the mean and the standard deviation above\n",
    "\n",
    "# load the data\n",
    "train = datasets.MNIST(root='./data', train=True, download=True, transform = train_transform)\n",
    "test = datasets.MNIST(root='./data', train=False, download=True, transform = test_transform)\n",
    "\n",
    "# percentage of the training data to be used in training\n",
    "TRAIN_VAL_RATIO = 0.95\n",
    "\n",
    "n_train_examples = int(len(train) * TRAIN_VAL_RATIO)\n",
    "n_valid_examples = len(train) - n_train_examples\n",
    "\n",
    "train, val = torch.utils.data.random_split(train, [n_train_examples, n_valid_examples])\n",
    "\n",
    "# applying the transform on validation set\n",
    "val = copy.deepcopy(val)\n",
    "val.dataset.transform = test_transform\n",
    "\n",
    "# defining the dataloaders\n",
    "train_loader = torch.utils.data.DataLoader(train, batch_size=BATCH_SIZE, shuffle=True)\n",
    "val_loader = torch.utils.data.DataLoader(val, batch_size = BATCH_SIZE, shuffle = True)\n",
    "test_loader = torch.utils.data.DataLoader(test, batch_size = BATCH_SIZE, shuffle=False)"
   ]
  },
  {
   "cell_type": "markdown",
   "metadata": {
    "id": "jLAwImg4UPRa"
   },
   "source": [
    "# VGG Model"
   ]
  },
  {
   "cell_type": "code",
   "execution_count": null,
   "metadata": {
    "id": "xLsFfL_AU2yd"
   },
   "outputs": [],
   "source": [
    "# Model architectures\n",
    "VGG_architectures = {\n",
    "    'VGG13': [64, 64, 'pool', 128, 128, 'pool', 256, 256, 'pool', 512, 512, 'pool', 512, 512, 'pool'],\n",
    "    'VGG16': [64, 64, 'pool', 128, 128, 'pool', 256, 256, 256, 'pool', 512, 512, 512, 'pool', 512, 512, 512, 'pool'],\n",
    "    'VGG19': [64, 64, 'pool', 128, 128, 'pool', 256, 256, 256, 256, 'pool', 512, 512, 512, 512, 'pool',\n",
    "              512, 512, 512, 512, 'pool']\n",
    "}\n",
    "\n",
    "class VGG(nn.Module):\n",
    "  '''\n",
    "  Implementation of VGG with Batch Norm for MNIST and CIFAR\n",
    "\n",
    "  num_classes (int): number of existing classes in data\n",
    "  '''\n",
    "  def __init__(self, in_planes = 1, num_classes = 10):\n",
    "    super(VGG, self).__init__()\n",
    "    self.in_planes = in_planes\n",
    "    # using the stack layers function - define which architecture the model should use\n",
    "    self.convs = self.stack_layers(VGG_architectures['VGG16']) ## Change wich architecture to use here\n",
    "\n",
    "    # after Conv layers in the original VGG the output is 7x7, hence \n",
    "    # the input size for the FC layers should be 512x7x7 and output is 4096\n",
    "    # CIFAR10 is 32x32, so this is my adaptation of VGG for CIFAR\n",
    "    self.fully_connected = nn.Sequential(\n",
    "        nn.Linear(512, 128),\n",
    "        nn.ReLU(inplace = True),\n",
    "        nn.Dropout(0.2),\n",
    "        nn.Linear(128, 128),\n",
    "        nn.ReLU(inplace = True),\n",
    "        nn.Dropout(0.2),\n",
    "        nn.Linear(128, num_classes)\n",
    "    )\n",
    "\n",
    "  def stack_layers(self, architecture):\n",
    "    in_planes = self.in_planes\n",
    "    # initialize empty list for all layers to be added\n",
    "    stack = []\n",
    "\n",
    "    for layer in architecture:\n",
    "      if type(layer) == int:\n",
    "        out = layer\n",
    "        stack += [nn.Conv2d(in_planes, out, kernel_size = 3, stride = 1, padding = 1),\n",
    "                  \n",
    "                  nn.BatchNorm2d(layer),\n",
    "                  nn.ReLU(inplace = True)]\n",
    "        in_planes = layer\n",
    "      else:\n",
    "        stack += [nn.MaxPool2d(kernel_size = 2)]\n",
    "      \n",
    "    return nn.Sequential(*stack)\n",
    "\n",
    "  def forward(self, x):\n",
    "    # bringing together all parts of the network here\n",
    "    x = self.convs(x)\n",
    "    x = x.reshape(x.shape[0], -1)\n",
    "    x = self.fully_connected(x)\n",
    "\n",
    "    return x"
   ]
  },
  {
   "cell_type": "markdown",
   "metadata": {
    "id": "9KJJjpp9X64h"
   },
   "source": [
    "## ResNet Model"
   ]
  },
  {
   "cell_type": "code",
   "execution_count": null,
   "metadata": {
    "id": "6xPnyM4YI--H"
   },
   "outputs": [],
   "source": [
    "class BasicBlock(nn.Module):\n",
    "    expansion = 1\n",
    "\n",
    "    def __init__(self, inplanes, planes, stride=1, downsample=None):\n",
    "        super().__init__()\n",
    "        self.conv1 = nn.Conv2d(inplanes, planes, kernel_size=3, stride=stride,\n",
    "                     padding=1, bias=False)\n",
    "        self.bn1 = nn.BatchNorm2d(planes)\n",
    "        self.relu = nn.ReLU(inplace=True)\n",
    "        self.conv2 = nn.Conv2d(planes, planes, kernel_size=3, stride=1,\n",
    "                     padding=1, bias=False)\n",
    "        self.bn2 = nn.BatchNorm2d(planes)\n",
    "        self.downsample = downsample\n",
    "        self.stride = stride\n",
    "\n",
    "    def forward(self, x):\n",
    "        identity = x\n",
    "\n",
    "        out = self.conv1(x)\n",
    "        out = self.bn1(out)\n",
    "        out = self.relu(out)\n",
    "\n",
    "        out = self.conv2(out)\n",
    "        out = self.bn2(out)\n",
    "\n",
    "        if self.downsample is not None:\n",
    "            identity = self.downsample(x)\n",
    "\n",
    "        out += identity\n",
    "        out = self.relu(out)\n",
    "\n",
    "        return out"
   ]
  },
  {
   "cell_type": "code",
   "execution_count": null,
   "metadata": {
    "id": "b6zBezbGGjrC"
   },
   "outputs": [],
   "source": [
    "class ResNet(nn.Module):\n",
    "\n",
    "    def __init__(self, block, layers, num_classes=1000):\n",
    "        super().__init__()\n",
    "        \n",
    "        self.inplanes = 64\n",
    "\n",
    "        self.conv1 = nn.Conv2d(1, self.inplanes, kernel_size=7, stride=2, padding=3,\n",
    "                               bias=False)\n",
    "        self.bn1 = nn.BatchNorm2d(self.inplanes)\n",
    "        self.relu = nn.ReLU(inplace=True)\n",
    "        self.maxpool = nn.MaxPool2d(kernel_size=3, stride=2, padding=1)\n",
    "        \n",
    "        self.layer1 = self._make_layer(block, 64, layers[0])\n",
    "        self.layer2 = self._make_layer(block, 128, layers[1], stride=2)\n",
    "        self.layer3 = self._make_layer(block, 256, layers[2], stride=2)\n",
    "        self.layer4 = self._make_layer(block, 512, layers[3], stride=2)\n",
    "        \n",
    "        self.avgpool = nn.AdaptiveAvgPool2d((1, 1))\n",
    "        self.fc = nn.Linear(512 , num_classes)\n",
    "\n",
    "\n",
    "    def _make_layer(self, block, planes, blocks, stride=1):\n",
    "        downsample = None  \n",
    "   \n",
    "        if stride != 1 or self.inplanes != planes:\n",
    "            downsample = nn.Sequential(\n",
    "                nn.Conv2d(self.inplanes, planes, 1, stride, bias=False),\n",
    "                nn.BatchNorm2d(planes),\n",
    "            )\n",
    "\n",
    "        layers = []\n",
    "        layers.append(block(self.inplanes, planes, stride, downsample))\n",
    "        \n",
    "        self.inplanes = planes\n",
    "        \n",
    "        for _ in range(1, blocks):\n",
    "            layers.append(block(self.inplanes, planes))\n",
    "\n",
    "        return nn.Sequential(*layers)\n",
    "    \n",
    "    \n",
    "    def forward(self, x):\n",
    "        x = self.conv1(x)           # 224x224\n",
    "        x = self.bn1(x)\n",
    "        x = self.relu(x)\n",
    "        x = self.maxpool(x)         # 112x112\n",
    "\n",
    "        x = self.layer1(x)          # 56x56\n",
    "        x = self.layer2(x)          # 28x28\n",
    "        x = self.layer3(x)          # 14x14\n",
    "        x = self.layer4(x)          # 7x7\n",
    "\n",
    "        x = self.avgpool(x)         # 1x1\n",
    "        x = torch.flatten(x, 1)     # remove 1 X 1 grid and make vector of tensor shape \n",
    "        x = self.fc(x)\n",
    "\n",
    "        return x"
   ]
  },
  {
   "cell_type": "code",
   "execution_count": null,
   "metadata": {
    "id": "sxs49pVdGwDU"
   },
   "outputs": [],
   "source": [
    "def resnet18():\n",
    "    layers=[2, 2, 2, 2]\n",
    "    model = ResNet(BasicBlock, layers)\n",
    "    return model"
   ]
  },
  {
   "cell_type": "code",
   "execution_count": null,
   "metadata": {
    "id": "08p-6GoQGtzT"
   },
   "outputs": [],
   "source": [
    "def resnet34():\n",
    "    layers=[3, 4, 6, 3]\n",
    "    model = ResNet(BasicBlock, layers)\n",
    "    return model"
   ]
  },
  {
   "cell_type": "markdown",
   "metadata": {
    "id": "OfyKhPkSMKNO"
   },
   "source": [
    "# Hyperparameters and model selection"
   ]
  },
  {
   "cell_type": "code",
   "execution_count": null,
   "metadata": {
    "id": "76sjWIr0X-o1"
   },
   "outputs": [],
   "source": [
    "device = 'cuda' if torch.cuda.is_available() else 'cpu'\n",
    "\n",
    "## Choose what model to use here:\n",
    "## Model for VGG\n",
    "#model = VGG(in_planes=1,num_classes=10).to(device)\n",
    "\n",
    "\n",
    "## Model for ResNet\n",
    "model = resnet34().to(device)"
   ]
  },
  {
   "cell_type": "code",
   "execution_count": null,
   "metadata": {
    "id": "OUZGL6hvX_XV"
   },
   "outputs": [],
   "source": [
    "\n",
    "criterion = nn.CrossEntropyLoss()\n",
    "criterion = criterion.to(device)\n",
    "\n",
    "## choose one of the following optimizers\n",
    "optimizer = torch.optim.SGD(model.parameters(), lr = 0.1, momentum = 0.5, weight_decay=0.0001)\n",
    "#optimizer = torch.optim.Adam(model.parameters(), lr=0.001, weight_decay=0)\n",
    "vgg_scheduler = torch.optim.lr_scheduler.MultiStepLR(optimizer,milestones=[10, 20], last_epoch= -1)"
   ]
  },
  {
   "cell_type": "markdown",
   "metadata": {
    "id": "HbNgpSCAU3SE"
   },
   "source": [
    "# Train the model"
   ]
  },
  {
   "cell_type": "code",
   "execution_count": null,
   "metadata": {
    "id": "d7jB1Qlo671z"
   },
   "outputs": [],
   "source": [
    "def accuracy_calc(predictions, labels):\n",
    "  ## calculate accuracy  \n",
    "  pred = predictions.argmax(1, keepdim=True) \n",
    "  accuracy_value = pred.eq(labels.view_as(pred)).sum().float() / labels.shape[0]\n",
    "  ## use torch.eq to compute element-wise equality, sum all the cases of equality and divide by the total cases\n",
    "\n",
    "  return accuracy_value"
   ]
  },
  {
   "cell_type": "code",
   "execution_count": null,
   "metadata": {
    "id": "RluaGgcR4fyC"
   },
   "outputs": [],
   "source": [
    "def train_model(model, iterator, optimizer, criterion, device):\n",
    "\n",
    "  epoch_loss = 0\n",
    "  epoch_acc = 0\n",
    "\n",
    "  model.train()\n",
    "\n",
    "  for inputs, labels in iterator:\n",
    "    \n",
    "    inputs = inputs.to(device)\n",
    "    labels = labels.to(device)\n",
    "\n",
    "    optimizer.zero_grad()\n",
    "    predictions = model(inputs)\n",
    "\n",
    "    loss = criterion(predictions, labels)\n",
    "    accuracy = accuracy_calc(predictions, labels)\n",
    "    loss.backward()\n",
    "    optimizer.step()\n",
    "\n",
    "    epoch_loss += loss.item()\n",
    "    epoch_acc += accuracy.item()\n",
    "\n",
    "  final_epoch_loss = epoch_loss/len(iterator)\n",
    "  final_epoch_acc = epoch_acc/len(iterator)\n",
    "\n",
    "  return final_epoch_loss, final_epoch_acc"
   ]
  },
  {
   "cell_type": "code",
   "execution_count": null,
   "metadata": {
    "id": "ulx6dAIB4p5t"
   },
   "outputs": [],
   "source": [
    "def validation(model, iterator, criterion, device):\n",
    "  epoch_loss = 0\n",
    "  epoch_accuracy = 0\n",
    "\n",
    "  model.eval()\n",
    "\n",
    "  with torch.no_grad():\n",
    "\n",
    "    for inputs, labels in iterator:\n",
    "\n",
    "      inputs = inputs.to(device)\n",
    "      labels = labels.to(device)\n",
    "\n",
    "      val_predictions = model(inputs)\n",
    "      val_loss = criterion(val_predictions, labels)\n",
    "      val_accuracy = accuracy_calc(val_predictions, labels)\n",
    "\n",
    "      epoch_loss += val_loss.item()\n",
    "      epoch_accuracy += val_accuracy.item()\n",
    "  \n",
    "  final_epoch_loss = epoch_loss/len(iterator)\n",
    "  final_epoch_acc = epoch_accuracy/len(iterator)\n",
    "\n",
    "  return final_epoch_loss, final_epoch_acc"
   ]
  },
  {
   "cell_type": "code",
   "execution_count": null,
   "metadata": {
    "colab": {
     "base_uri": "https://localhost:8080/"
    },
    "id": "ge8SiZsDV9UR",
    "outputId": "bb4f6549-ab5a-43cf-d37e-c1e8afca51f5"
   },
   "outputs": [
    {
     "name": "stdout",
     "output_type": "stream",
     "text": [
      "Start of training: Fri May 14 22:24:50 2021\n",
      "Epoch 0/24\n",
      "train accuracy: 0.825 | train loss: 0.663\n",
      "val accuracy: 0.967 | val loss: 0.101\n",
      "Epoch completed in 0m 23s\n",
      "----------\n",
      "Epoch 1/24\n",
      "train accuracy: 0.981 | train loss: 0.061\n",
      "val accuracy: 0.968 | val loss: 0.110\n",
      "Epoch completed in 0m 23s\n",
      "----------\n",
      "Epoch 2/24\n",
      "train accuracy: 0.988 | train loss: 0.039\n",
      "val accuracy: 0.981 | val loss: 0.059\n",
      "Epoch completed in 0m 23s\n",
      "----------\n",
      "Epoch 3/24\n",
      "train accuracy: 0.991 | train loss: 0.029\n",
      "val accuracy: 0.981 | val loss: 0.066\n",
      "Epoch completed in 0m 23s\n",
      "----------\n",
      "Epoch 4/24\n",
      "train accuracy: 0.993 | train loss: 0.023\n",
      "val accuracy: 0.979 | val loss: 0.065\n",
      "Epoch completed in 0m 23s\n",
      "----------\n",
      "Epoch 5/24\n",
      "train accuracy: 0.994 | train loss: 0.019\n",
      "val accuracy: 0.965 | val loss: 0.126\n",
      "Epoch completed in 0m 23s\n",
      "----------\n",
      "Epoch 6/24\n",
      "train accuracy: 0.995 | train loss: 0.016\n",
      "val accuracy: 0.984 | val loss: 0.045\n",
      "Epoch completed in 0m 23s\n",
      "----------\n",
      "Epoch 7/24\n",
      "train accuracy: 0.995 | train loss: 0.014\n",
      "val accuracy: 0.988 | val loss: 0.046\n",
      "Epoch completed in 0m 23s\n",
      "----------\n",
      "Epoch 8/24\n",
      "train accuracy: 0.996 | train loss: 0.011\n",
      "val accuracy: 0.991 | val loss: 0.036\n",
      "Epoch completed in 0m 23s\n",
      "----------\n",
      "Epoch 9/24\n",
      "train accuracy: 0.996 | train loss: 0.011\n",
      "val accuracy: 0.988 | val loss: 0.038\n",
      "Epoch completed in 0m 23s\n",
      "----------\n",
      "Epoch 10/24\n",
      "train accuracy: 0.999 | train loss: 0.004\n",
      "val accuracy: 0.992 | val loss: 0.025\n",
      "Epoch completed in 0m 23s\n",
      "----------\n",
      "Epoch 11/24\n",
      "train accuracy: 0.999 | train loss: 0.003\n",
      "val accuracy: 0.993 | val loss: 0.026\n",
      "Epoch completed in 0m 23s\n",
      "----------\n",
      "Epoch 12/24\n",
      "train accuracy: 1.000 | train loss: 0.002\n",
      "val accuracy: 0.993 | val loss: 0.026\n",
      "Epoch completed in 0m 23s\n",
      "----------\n",
      "Epoch 13/24\n",
      "train accuracy: 1.000 | train loss: 0.002\n",
      "val accuracy: 0.993 | val loss: 0.027\n",
      "Epoch completed in 0m 23s\n",
      "----------\n",
      "Epoch 14/24\n",
      "train accuracy: 1.000 | train loss: 0.002\n",
      "val accuracy: 0.992 | val loss: 0.027\n",
      "Epoch completed in 0m 23s\n",
      "----------\n",
      "Epoch 15/24\n",
      "train accuracy: 1.000 | train loss: 0.001\n",
      "val accuracy: 0.993 | val loss: 0.028\n",
      "Epoch completed in 0m 23s\n",
      "----------\n",
      "Epoch 16/24\n",
      "train accuracy: 1.000 | train loss: 0.002\n",
      "val accuracy: 0.993 | val loss: 0.028\n",
      "Epoch completed in 0m 23s\n",
      "----------\n",
      "Epoch 17/24\n",
      "train accuracy: 1.000 | train loss: 0.001\n",
      "val accuracy: 0.993 | val loss: 0.028\n",
      "Epoch completed in 0m 23s\n",
      "----------\n",
      "Epoch 18/24\n",
      "train accuracy: 1.000 | train loss: 0.001\n",
      "val accuracy: 0.993 | val loss: 0.029\n",
      "Epoch completed in 0m 23s\n",
      "----------\n",
      "Epoch 19/24\n",
      "train accuracy: 1.000 | train loss: 0.001\n",
      "val accuracy: 0.993 | val loss: 0.028\n",
      "Epoch completed in 0m 23s\n",
      "----------\n",
      "Epoch 20/24\n",
      "train accuracy: 1.000 | train loss: 0.001\n",
      "val accuracy: 0.992 | val loss: 0.029\n",
      "Epoch completed in 0m 23s\n",
      "----------\n",
      "Epoch 21/24\n",
      "train accuracy: 1.000 | train loss: 0.001\n",
      "val accuracy: 0.993 | val loss: 0.028\n",
      "Epoch completed in 0m 23s\n",
      "----------\n",
      "Epoch 22/24\n",
      "train accuracy: 1.000 | train loss: 0.001\n",
      "val accuracy: 0.993 | val loss: 0.029\n",
      "Epoch completed in 0m 23s\n",
      "----------\n",
      "Epoch 23/24\n",
      "train accuracy: 1.000 | train loss: 0.001\n",
      "val accuracy: 0.993 | val loss: 0.030\n",
      "Epoch completed in 0m 23s\n",
      "----------\n",
      "Epoch 24/24\n",
      "train accuracy: 1.000 | train loss: 0.001\n",
      "val accuracy: 0.993 | val loss: 0.029\n",
      "Epoch completed in 0m 23s\n",
      "----------\n",
      "Training completed in 9m 41s\n",
      "End of training: Fri May 14 22:34:31 2021\n"
     ]
    }
   ],
   "source": [
    "num_epochs = 25\n",
    "full_train_loss = []\n",
    "full_train_acc = []\n",
    "\n",
    "full_val_loss = []\n",
    "full_val_acc = []\n",
    "\n",
    "since = time.time()\n",
    "print('Start of training:', time.asctime(time.localtime(time.time())))\n",
    "for epoch in range(num_epochs):\n",
    "    epoch_time = time.time()\n",
    "    print('Epoch {}/{}'.format(epoch, num_epochs - 1))\n",
    "\n",
    "    train_loss, train_acc = train_model(model, train_loader, optimizer, criterion, device)\n",
    "    vgg_scheduler.step()\n",
    "    val_loss, val_acc = validation(model, val_loader, criterion, device)\n",
    "\n",
    "    full_train_loss.append(train_loss)\n",
    "    full_train_acc.append(train_acc)\n",
    "\n",
    "    full_val_loss.append(val_loss)\n",
    "    full_val_acc.append(val_acc)\n",
    "    \n",
    "    time_elapsed = time.time() - epoch_time\n",
    "    print(f'train accuracy: {train_acc:.3f} | train loss: {train_loss:.3f}')\n",
    "    print(f'val accuracy: {val_acc:.3f} | val loss: {val_loss:.3f}')\n",
    "    print('Epoch completed in {:.0f}m {:.0f}s'.format(time_elapsed // 60, time_elapsed % 60))\n",
    "    print('-' * 10)\n",
    "\n",
    "final_time_elapsed = time.time() - since\n",
    "print('Training completed in {:.0f}m {:.0f}s'.format(final_time_elapsed // 60, final_time_elapsed % 60))\n",
    "print('End of training:', time.asctime( time.localtime(time.time()) ))"
   ]
  },
  {
   "cell_type": "code",
   "execution_count": null,
   "metadata": {
    "colab": {
     "base_uri": "https://localhost:8080/"
    },
    "id": "8dTH3GnUxCJl",
    "outputId": "04737cf5-f293-4e19-a4aa-ebdf3beb2a3f"
   },
   "outputs": [
    {
     "name": "stdout",
     "output_type": "stream",
     "text": [
      "Training accuracy: 0.989952454395893\n",
      "Validation accuracy: 0.9873363924026489\n"
     ]
    }
   ],
   "source": [
    "train_accuracy = np.mean(full_train_acc)\n",
    "val_accuracy = np.mean(full_val_acc)\n",
    "print('Training accuracy:', train_accuracy)\n",
    "print('Validation accuracy:', val_accuracy)"
   ]
  },
  {
   "cell_type": "code",
   "execution_count": null,
   "metadata": {
    "id": "Xgz7gKHIAvHR"
   },
   "outputs": [],
   "source": [
    "## save the accuracy and loss values from training and validation\n",
    "#data = pd.DataFrame(zip(full_train_acc, full_train_loss, full_val_acc, full_val_loss),\n",
    "                    #columns = ['Train acc', 'Train loss', 'Val acc', 'Val loss'])\n",
    "#data.to_csv()"
   ]
  },
  {
   "cell_type": "markdown",
   "metadata": {
    "id": "NFxEhLCSxm3M"
   },
   "source": [
    "# Test the model"
   ]
  },
  {
   "cell_type": "code",
   "execution_count": null,
   "metadata": {
    "id": "KbwXCrqUxhHi"
   },
   "outputs": [],
   "source": [
    "def test_model(model, iterator, device):\n",
    "\n",
    "    model.eval()\n",
    "\n",
    "    images = []\n",
    "    labels = []\n",
    "    probs = []\n",
    "\n",
    "    with torch.no_grad():\n",
    "\n",
    "        for x,y in iterator:\n",
    "\n",
    "            x = x.to(device)\n",
    "\n",
    "            y_pred = model(x)\n",
    "\n",
    "            y_prob = F.softmax(y_pred, dim = -1)\n",
    "            top_pred = y_prob.argmax(1, keepdim = True)\n",
    "\n",
    "            images.append(x.cpu())\n",
    "            labels.append(y.cpu())\n",
    "            probs.append(y_prob.cpu())\n",
    "\n",
    "    images = torch.cat(images, dim = 0)\n",
    "    labels = torch.cat(labels, dim = 0)\n",
    "    probs = torch.cat(probs, dim = 0)\n",
    "\n",
    "    return images, labels, probs"
   ]
  },
  {
   "cell_type": "code",
   "execution_count": null,
   "metadata": {
    "id": "hKnHOXgcylVM"
   },
   "outputs": [],
   "source": [
    "input_images, image_labels, probabilities = test_model(model, test_loader, device)"
   ]
  },
  {
   "cell_type": "code",
   "execution_count": null,
   "metadata": {
    "id": "8HrJYTON2JJM"
   },
   "outputs": [],
   "source": [
    "pred = torch.argmax(probabilities,1)"
   ]
  },
  {
   "cell_type": "code",
   "execution_count": null,
   "metadata": {
    "colab": {
     "base_uri": "https://localhost:8080/"
    },
    "id": "8KCXoWcK5HIK",
    "outputId": "df44cb78-da78-40e5-b202-af131b8a3542"
   },
   "outputs": [
    {
     "name": "stdout",
     "output_type": "stream",
     "text": [
      "Test accuracy: 0.994\n"
     ]
    }
   ],
   "source": [
    "test_accuracy = np.mean(image_labels.numpy()==pred.numpy())\n",
    "print('Test accuracy:', test_accuracy)"
   ]
  },
  {
   "cell_type": "code",
   "execution_count": null,
   "metadata": {
    "colab": {
     "base_uri": "https://localhost:8080/",
     "height": 77
    },
    "id": "zWzTG136PwU2",
    "outputId": "9d5320e7-4430-4897-9040-c6de828ebda0"
   },
   "outputs": [
    {
     "data": {
      "text/html": [
       "<div>\n",
       "<style scoped>\n",
       "    .dataframe tbody tr th:only-of-type {\n",
       "        vertical-align: middle;\n",
       "    }\n",
       "\n",
       "    .dataframe tbody tr th {\n",
       "        vertical-align: top;\n",
       "    }\n",
       "\n",
       "    .dataframe thead th {\n",
       "        text-align: right;\n",
       "    }\n",
       "</style>\n",
       "<table border=\"1\" class=\"dataframe\">\n",
       "  <thead>\n",
       "    <tr style=\"text-align: right;\">\n",
       "      <th></th>\n",
       "      <th>Training</th>\n",
       "      <th>Validation</th>\n",
       "      <th>Testing</th>\n",
       "    </tr>\n",
       "  </thead>\n",
       "  <tbody>\n",
       "    <tr>\n",
       "      <th>Accuracy</th>\n",
       "      <td>0.989952</td>\n",
       "      <td>0.987336</td>\n",
       "      <td>0.994</td>\n",
       "    </tr>\n",
       "  </tbody>\n",
       "</table>\n",
       "</div>"
      ],
      "text/plain": [
       "          Training  Validation  Testing\n",
       "Accuracy  0.989952    0.987336    0.994"
      ]
     },
     "metadata": {
      "tags": []
     },
     "output_type": "display_data"
    }
   ],
   "source": [
    "## save the accuracies from training, validation and testing\n",
    "df = pd.DataFrame([[train_accuracy, val_accuracy, test_accuracy]], \n",
    "                  columns = ['Training', 'Validation', 'Testing'], index = ['Accuracy'])\n",
    "display(df)\n",
    "#df.to_csv()"
   ]
  },
  {
   "cell_type": "markdown",
   "metadata": {
    "id": "Knq8poR2SLHO"
   },
   "source": [
    "Now let's make some plots and produce some images for the several networks tested for the best hyperparameters."
   ]
  },
  {
   "cell_type": "markdown",
   "metadata": {
    "id": "UdyRDpKgPJ6T"
   },
   "source": [
    "# Plot correct cases:\n",
    "Let's show 10 cases where the model correctly predicted the digit:"
   ]
  },
  {
   "cell_type": "code",
   "execution_count": null,
   "metadata": {
    "id": "ZXQnaNtAPJWF"
   },
   "outputs": [],
   "source": [
    "correct_pred_list = [] ## list where the necessary data for the correct predictions will be\n",
    "for i in range(len(input_images)):\n",
    "  if pred[i]==image_labels[i]:\n",
    "    correct_pred_list.append((input_images[i], image_labels[i], pred[i]))"
   ]
  },
  {
   "cell_type": "code",
   "execution_count": null,
   "metadata": {
    "colab": {
     "base_uri": "https://localhost:8080/",
     "height": 671
    },
    "id": "_z88lI8kPZWO",
    "outputId": "ff02cb7f-fd47-4eb2-f4bc-ea37f9c8fc49"
   },
   "outputs": [
    {
     "name": "stderr",
     "output_type": "stream",
     "text": [
      "Clipping input data to the valid range for imshow with RGB data ([0..1] for floats or [0..255] for integers).\n",
      "Clipping input data to the valid range for imshow with RGB data ([0..1] for floats or [0..255] for integers).\n",
      "Clipping input data to the valid range for imshow with RGB data ([0..1] for floats or [0..255] for integers).\n",
      "Clipping input data to the valid range for imshow with RGB data ([0..1] for floats or [0..255] for integers).\n",
      "Clipping input data to the valid range for imshow with RGB data ([0..1] for floats or [0..255] for integers).\n",
      "Clipping input data to the valid range for imshow with RGB data ([0..1] for floats or [0..255] for integers).\n",
      "Clipping input data to the valid range for imshow with RGB data ([0..1] for floats or [0..255] for integers).\n",
      "Clipping input data to the valid range for imshow with RGB data ([0..1] for floats or [0..255] for integers).\n",
      "Clipping input data to the valid range for imshow with RGB data ([0..1] for floats or [0..255] for integers).\n",
      "Clipping input data to the valid range for imshow with RGB data ([0..1] for floats or [0..255] for integers).\n"
     ]
    },
    {
     "data": {
      "image/png": "[encoded data removed]",
      "text/plain": [
       "<Figure size 1080x720 with 10 Axes>"
      ]
     },
     "metadata": {
      "needs_background": "light",
      "tags": []
     },
     "output_type": "display_data"
    }
   ],
   "source": [
    "fig, axs = plt.subplots(2 ,5, figsize=(15,10))\n",
    "w=0\n",
    "for i in range(2):\n",
    "  for j in range(5):\n",
    "    \n",
    "    image = torchvision.utils.make_grid(correct_pred_list[w][0])\n",
    "    image = image.numpy().transpose((1, 2, 0))\n",
    "    label = correct_pred_list[w][1]\n",
    "    prediction = correct_pred_list[w][2]\n",
    "    axs[i,j].imshow(image)\n",
    "    axs[i,j].set_title(f'Label: {label}\\n' \\\n",
    "                 f'Prediction: {prediction}')\n",
    "    axs[i,j].axis('off')\n",
    "    w+=1\n",
    "#fig.savefig()"
   ]
  },
  {
   "cell_type": "markdown",
   "metadata": {
    "id": "yMQO8dUj9iFW"
   },
   "source": [
    "## Pot incorrect cases:"
   ]
  },
  {
   "cell_type": "markdown",
   "metadata": {
    "id": "oTckJK-RAEYc"
   },
   "source": [
    "Let's show 10 cases where the model failed to predict the correct digit:"
   ]
  },
  {
   "cell_type": "code",
   "execution_count": null,
   "metadata": {
    "id": "5N4f10vTBF9Z"
   },
   "outputs": [],
   "source": [
    "wrong_pred_list = [] ## list where the necessary data for the incorrect predictions will be\n",
    "for i in range(len(input_images)):\n",
    "  if pred[i]!=image_labels[i]:\n",
    "    wrong_pred_list.append((input_images[i], image_labels[i], pred[i]))"
   ]
  },
  {
   "cell_type": "code",
   "execution_count": null,
   "metadata": {
    "colab": {
     "base_uri": "https://localhost:8080/",
     "height": 671
    },
    "id": "H3l8-ntIIgtK",
    "outputId": "f4084b5c-517a-493e-cd49-78caa3d4eca2"
   },
   "outputs": [
    {
     "name": "stderr",
     "output_type": "stream",
     "text": [
      "Clipping input data to the valid range for imshow with RGB data ([0..1] for floats or [0..255] for integers).\n",
      "Clipping input data to the valid range for imshow with RGB data ([0..1] for floats or [0..255] for integers).\n",
      "Clipping input data to the valid range for imshow with RGB data ([0..1] for floats or [0..255] for integers).\n",
      "Clipping input data to the valid range for imshow with RGB data ([0..1] for floats or [0..255] for integers).\n",
      "Clipping input data to the valid range for imshow with RGB data ([0..1] for floats or [0..255] for integers).\n",
      "Clipping input data to the valid range for imshow with RGB data ([0..1] for floats or [0..255] for integers).\n",
      "Clipping input data to the valid range for imshow with RGB data ([0..1] for floats or [0..255] for integers).\n",
      "Clipping input data to the valid range for imshow with RGB data ([0..1] for floats or [0..255] for integers).\n",
      "Clipping input data to the valid range for imshow with RGB data ([0..1] for floats or [0..255] for integers).\n",
      "Clipping input data to the valid range for imshow with RGB data ([0..1] for floats or [0..255] for integers).\n"
     ]
    },
    {
     "data": {
      "image/png": "[encoded data removed]",
      "text/plain": [
       "<Figure size 1080x720 with 10 Axes>"
      ]
     },
     "metadata": {
      "needs_background": "light",
      "tags": []
     },
     "output_type": "display_data"
    }
   ],
   "source": [
    "fig, axs = plt.subplots(2 ,5, figsize=(15,10))\n",
    "k=0\n",
    "for i in range(2):\n",
    "  for j in range(5):\n",
    "    \n",
    "    image = torchvision.utils.make_grid(wrong_pred_list[k][0])\n",
    "    image = image.numpy().transpose((1, 2, 0))\n",
    "    label = wrong_pred_list[k][1]\n",
    "    prediction = wrong_pred_list[k][2]\n",
    "    axs[i,j].imshow(image)\n",
    "    axs[i,j].set_title(f'Label: {label}\\n' \\\n",
    "                 f'Prediction: {prediction}')\n",
    "    axs[i,j].axis('off')\n",
    "    k+=1\n",
    "#fig.savefig()"
   ]
  },
  {
   "cell_type": "markdown",
   "metadata": {
    "id": "PreuhIo3n3n5"
   },
   "source": [
    "# Confusion Matrix:"
   ]
  },
  {
   "cell_type": "code",
   "execution_count": null,
   "metadata": {
    "colab": {
     "base_uri": "https://localhost:8080/",
     "height": 689
    },
    "id": "F12gcxDX2T3K",
    "outputId": "cb8b63d6-7122-48d8-8dcc-3d3edbed4fd8"
   },
   "outputs": [
    {
     "data": {
      "image/png": "[encoded data removed]",
      "text/plain": [
       "<Figure size 864x864 with 2 Axes>"
      ]
     },
     "metadata": {
      "needs_background": "light",
      "tags": []
     },
     "output_type": "display_data"
    }
   ],
   "source": [
    "fig, axs = plt.subplots(1,1, figsize=(12,12))\n",
    "conf_matrix = confusion_matrix(image_labels, pred, normalize='true')\n",
    "plot_matrix = ConfusionMatrixDisplay(conf_matrix, test.classes)\n",
    "plot_matrix.plot(ax=axs)\n",
    "axs.tick_params(labelsize=12)\n",
    "axs.set_xlabel('Predicted Label', fontsize=12)\n",
    "axs.set_ylabel('True Lable',fontsize=12)\n",
    "axs.set_title('Test Confusion Matrix', fontsize=20, y=1.01)\n",
    "#fig.savefig()"
   ]
  },
  {
   "cell_type": "markdown",
   "metadata": {
    "id": "rq9FcTVnkn8u"
   },
   "source": [
    "# Loss plot:"
   ]
  },
  {
   "cell_type": "code",
   "execution_count": null,
   "metadata": {
    "colab": {
     "base_uri": "https://localhost:8080/",
     "height": 585
    },
    "id": "CFP-GuBbIfBl",
    "outputId": "043e7cd0-c5f0-46f4-a413-028db4383cc3"
   },
   "outputs": [
    {
     "data": {
      "image/png": "[encoded data removed]",
      "text/plain": [
       "<Figure size 720x576 with 1 Axes>"
      ]
     },
     "metadata": {
      "needs_background": "light",
      "tags": []
     },
     "output_type": "display_data"
    }
   ],
   "source": [
    "fig, axs = plt.subplots(1,1, figsize = (10,8))\n",
    "\n",
    "axs.plot(range(num_epochs), full_train_loss, label = 'Training Loss')\n",
    "axs.plot(range(num_epochs), full_val_loss, label = 'Validation Loss')\n",
    "\n",
    "for axis in ['top','bottom','left','right']:\n",
    "    axs.spines[axis].set_linewidth(2.5)\n",
    "\n",
    "\n",
    "axs.set_xlabel('$Epochs$', fontsize=40)\n",
    "axs.xaxis.set_ticks_position('both')\n",
    "axs.set_ylabel('$Loss$', fontsize=40)\n",
    "axs.yaxis.set_ticks_position('both')\n",
    "axs.tick_params(which='both', length=8, width=2, direction=\"in\", pad=10, labelsize=20)\n",
    "\n",
    "axs.tick_params(labelsize=25)\n",
    "legend = axs.legend(borderpad=1, labelspacing=2, fontsize=15, loc='best')\n",
    "legend.get_frame().set_linewidth(2.5)\n",
    "legend.get_frame().set_edgecolor('black')\n",
    "\n",
    "plt.tight_layout()\n",
    "#fig.savefig()"
   ]
  },
  {
   "cell_type": "markdown",
   "metadata": {
    "id": "7NDyR6NOks64"
   },
   "source": [
    "# Accuracy plot:"
   ]
  },
  {
   "cell_type": "code",
   "execution_count": null,
   "metadata": {
    "colab": {
     "base_uri": "https://localhost:8080/",
     "height": 585
    },
    "id": "RDQjSZd5I53q",
    "outputId": "5664d1ea-2ff5-4e7c-92ff-35cfee819b32"
   },
   "outputs": [
    {
     "data": {
      "image/png": "[encoded data removed]",
      "text/plain": [
       "<Figure size 720x576 with 1 Axes>"
      ]
     },
     "metadata": {
      "needs_background": "light",
      "tags": []
     },
     "output_type": "display_data"
    }
   ],
   "source": [
    "fig, axs = plt.subplots(1,1, figsize = (10,8))\n",
    "\n",
    "axs.plot(range(num_epochs), full_train_acc, label = 'Training accuracy')\n",
    "axs.plot(range(num_epochs), full_val_acc, label = 'Validation accuracy')\n",
    "\n",
    "for axis in ['top','bottom','left','right']:\n",
    "    axs.spines[axis].set_linewidth(2.5)\n",
    "\n",
    "axs.set_xlabel('$Epochs$', fontsize=40)\n",
    "axs.xaxis.set_ticks_position('both')\n",
    "axs.set_ylabel('$Accuracy$', fontsize=40)\n",
    "axs.yaxis.set_ticks_position('both')\n",
    "axs.tick_params(which='both', length=8, width=2, direction=\"in\", pad=10, labelsize=20)\n",
    "\n",
    "axs.tick_params(labelsize=25)\n",
    "legend = axs.legend(borderpad=1, labelspacing=2, fontsize=15, loc='best')\n",
    "legend.get_frame().set_linewidth(2.5)\n",
    "legend.get_frame().set_edgecolor('black')\n",
    "\n",
    "plt.tight_layout()\n",
    "#fig.savefig()"
   ]
  },
  {
   "cell_type": "code",
   "execution_count": null,
   "metadata": {
    "id": "6VOHrIp49dVT"
   },
   "outputs": [],
   "source": []
  }
 ],
 "metadata": {
  "accelerator": "GPU",
  "colab": {
   "collapsed_sections": [],
   "name": "Deep_Learning_Mini_project_MNIST.ipynb",
   "provenance": [],
   "toc_visible": true
  },
  "kernelspec": {
   "display_name": "Python 3",
   "language": "python",
   "name": "python3"
  },
  "language_info": {
   "codemirror_mode": {
    "name": "ipython",
    "version": 3
   },
   "file_extension": ".py",
   "mimetype": "text/x-python",
   "name": "python",
   "nbconvert_exporter": "python",
   "pygments_lexer": "ipython3",
   "version": "3.8.5"
  }
 },
 "nbformat": 4,
 "nbformat_minor": 1
}
